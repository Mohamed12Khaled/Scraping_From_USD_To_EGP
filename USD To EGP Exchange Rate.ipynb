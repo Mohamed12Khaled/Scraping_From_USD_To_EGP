{
 "cells": [
  {
   "cell_type": "code",
   "execution_count": 1,
   "id": "0792bb06",
   "metadata": {},
   "outputs": [],
   "source": [
    "import requests\n",
    "from bs4 import BeautifulSoup"
   ]
  },
  {
   "cell_type": "code",
   "execution_count": 2,
   "id": "a8efe07f",
   "metadata": {},
   "outputs": [
    {
     "data": {
      "text/plain": [
       "30.8966"
      ]
     },
     "execution_count": 2,
     "metadata": {},
     "output_type": "execute_result"
    }
   ],
   "source": [
    "response = requests.get('https://www.exchangerates.org.uk/Dollars-to-Egyptian-Pounds-currency-conversion-page.html')\n",
    "soup = BeautifulSoup(response.text, 'html.parser')\n",
    "convert=float(soup.find('span',{\"id\":\"shd2b;\"}).get_text())\n",
    "convert"
   ]
  },
  {
   "cell_type": "code",
   "execution_count": 3,
   "id": "f1258ef9",
   "metadata": {},
   "outputs": [
    {
     "name": "stdout",
     "output_type": "stream",
     "text": [
      "enter amount in EGP: 122\n",
      "3769.3851999999997\n"
     ]
    }
   ],
   "source": [
    "egp=input(\"enter amount in EGP: \")\n",
    "egp=float(egp)\n",
    "usd=convert*egp\n",
    "print(usd)"
   ]
  },
  {
   "cell_type": "code",
   "execution_count": null,
   "id": "6e41d6f5",
   "metadata": {},
   "outputs": [],
   "source": []
  }
 ],
 "metadata": {
  "kernelspec": {
   "display_name": "Python 3 (ipykernel)",
   "language": "python",
   "name": "python3"
  },
  "language_info": {
   "codemirror_mode": {
    "name": "ipython",
    "version": 3
   },
   "file_extension": ".py",
   "mimetype": "text/x-python",
   "name": "python",
   "nbconvert_exporter": "python",
   "pygments_lexer": "ipython3",
   "version": "3.9.13"
  }
 },
 "nbformat": 4,
 "nbformat_minor": 5
}
